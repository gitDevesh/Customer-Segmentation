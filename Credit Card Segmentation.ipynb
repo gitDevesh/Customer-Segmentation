{
 "cells": [
  {
   "cell_type": "code",
   "execution_count": null,
   "metadata": {},
   "outputs": [],
   "source": [
    "import os\n",
    "import pandas as pd\n",
    "import numpy as np\n",
    "import matplotlib.pyplot as plt\n",
    "\n",
    "import seaborn as sns\n",
    "import sklearn as skl"
   ]
  },
  {
   "cell_type": "code",
   "execution_count": null,
   "metadata": {},
   "outputs": [],
   "source": [
    "os.chdir(r'D:\\Data Science\\Edwisor\\Projects\\Customer Segmentation')\n",
    "os.getcwd()"
   ]
  },
  {
   "cell_type": "code",
   "execution_count": null,
   "metadata": {},
   "outputs": [],
   "source": [
    "credit_card = pd.read_csv('CC GENERAL.csv')\n",
    "credit_card.head(10)"
   ]
  },
  {
   "cell_type": "markdown",
   "metadata": {},
   "source": [
    "# Basic Info"
   ]
  },
  {
   "cell_type": "code",
   "execution_count": null,
   "metadata": {},
   "outputs": [],
   "source": [
    "credit_card.info()"
   ]
  },
  {
   "cell_type": "code",
   "execution_count": null,
   "metadata": {},
   "outputs": [],
   "source": [
    "credit_card.describe().T"
   ]
  },
  {
   "cell_type": "code",
   "execution_count": null,
   "metadata": {},
   "outputs": [],
   "source": [
    "# There are some missing values in MINIMUM_PAYMENTS and CREDIT_LIMIT which we wil impute or drop later as per the requirement"
   ]
  },
  {
   "cell_type": "markdown",
   "metadata": {},
   "source": [
    "# EDA"
   ]
  },
  {
   "cell_type": "code",
   "execution_count": null,
   "metadata": {},
   "outputs": [],
   "source": [
    "# Missing Values Analysis\n",
    "missing_values = pd.DataFrame(credit_card.isnull().sum())\n",
    "missing_values = missing_values.reset_index()\n",
    "missing_values = missing_values.rename(columns = {'index':'Variables', 0:'Percentage'})\n",
    "missing_values['Percentage'] = (missing_values['Percentage']/len(credit_card))*100\n",
    "missing_values = missing_values.sort_values('Percentage', ascending = False)\n",
    "missing_values"
   ]
  },
  {
   "cell_type": "code",
   "execution_count": null,
   "metadata": {},
   "outputs": [],
   "source": [
    "plt.figure(figsize=(17,10))\n",
    "sns.heatmap(credit_card.isna())"
   ]
  },
  {
   "cell_type": "code",
   "execution_count": null,
   "metadata": {},
   "outputs": [],
   "source": [
    "# Imputing the values using median\n",
    "credit_card['MINIMUM_PAYMENTS'] = credit_card['MINIMUM_PAYMENTS'].fillna(credit_card['MINIMUM_PAYMENTS'].median())\n",
    "credit_card['CREDIT_LIMIT'] = credit_card['CREDIT_LIMIT'].fillna(credit_card['CREDIT_LIMIT'].median())"
   ]
  },
  {
   "cell_type": "code",
   "execution_count": null,
   "metadata": {},
   "outputs": [],
   "source": [
    "# We don't need the customer id so let's drop it\n",
    "credit_card.drop(['CUST_ID'],axis=1,inplace =True)\n",
    "credit_card.head()"
   ]
  },
  {
   "cell_type": "code",
   "execution_count": null,
   "metadata": {
    "scrolled": false
   },
   "outputs": [],
   "source": [
    "# Checking for outliers\n",
    "%matplotlib inline\n",
    "plt.figure(figsize= (15,60))\n",
    "\n",
    "for i in range(0,17):\n",
    "    plt.subplot(17, 3, i+1)\n",
    "    plt.xlabel(credit_card.columns[i])\n",
    "    plt.boxplot(credit_card[credit_card.columns[i]])\n",
    "\n",
    "#plt.show"
   ]
  },
  {
   "cell_type": "code",
   "execution_count": null,
   "metadata": {},
   "outputs": [],
   "source": [
    "credit_card.duplicated().sum()"
   ]
  },
  {
   "cell_type": "code",
   "execution_count": null,
   "metadata": {},
   "outputs": [],
   "source": [
    "# We have outliers in almost all the variables but we are not going to remove or impute them because these values are \n",
    "# important for the data as each customer has different spending which naturally makes the values to vary by a lot.\n",
    "# Also a lot of variables have 0 value due to which log transformation can not be applied on the dataframe."
   ]
  },
  {
   "cell_type": "code",
   "execution_count": null,
   "metadata": {},
   "outputs": [],
   "source": [
    "# let's check the correlation of variables\n",
    "correlation_matrix = credit_card.corr()\n",
    "correlation_matrix\n",
    "plt.figure(figsize=(14,10))\n",
    "sns.heatmap(correlation_matrix,vmin=1, vmax=-1, annot= True)"
   ]
  },
  {
   "cell_type": "code",
   "execution_count": null,
   "metadata": {},
   "outputs": [],
   "source": [
    "# Balance has positive correlation with CASH_ADVANCE, CASH_ADVANCE_FREQUENCY, CREDIT_LIMIT and limit_usage\n",
    "# Purchase has high positive correlation with one_off_purchases"
   ]
  },
  {
   "cell_type": "markdown",
   "metadata": {},
   "source": [
    "# Visualizing Data"
   ]
  },
  {
   "cell_type": "code",
   "execution_count": null,
   "metadata": {
    "scrolled": false
   },
   "outputs": [],
   "source": [
    "plt.figure(figsize=(15,70))\n",
    "for i in range(0,17):\n",
    "    plt.subplot(17,1,i+1)\n",
    "    sns.distplot(credit_card[credit_card.columns[i]], kde_kws={'bw': 0.05,'lw':2}, color='red')\n",
    "plt.tight_layout"
   ]
  },
  {
   "cell_type": "markdown",
   "metadata": {},
   "source": [
    "# Creating KPI'S"
   ]
  },
  {
   "cell_type": "code",
   "execution_count": null,
   "metadata": {},
   "outputs": [],
   "source": [
    "credit_card['limit_usage'] = credit_card['BALANCE']/credit_card['CREDIT_LIMIT']*100"
   ]
  },
  {
   "cell_type": "code",
   "execution_count": null,
   "metadata": {},
   "outputs": [],
   "source": [
    "# How much amount customer spends monthly\n",
    "credit_card['monthly_amount_spent'] = credit_card['PURCHASES']/credit_card['TENURE']"
   ]
  },
  {
   "cell_type": "code",
   "execution_count": null,
   "metadata": {},
   "outputs": [],
   "source": [
    "credit_card['min_pay_ratio'] = credit_card['PAYMENTS']/credit_card['MINIMUM_PAYMENTS']"
   ]
  },
  {
   "cell_type": "code",
   "execution_count": null,
   "metadata": {},
   "outputs": [],
   "source": [
    "# creating different type of purchases\n",
    "def purchase(credit_card):\n",
    "    if credit_card['ONEOFF_PURCHASES'] > 0 and credit_card['INSTALLMENTS_PURCHASES'] > 0:\n",
    "        return 'ot_oneoff_installment'\n",
    "    elif credit_card['ONEOFF_PURCHASES'] > 0 and credit_card['INSTALLMENTS_PURCHASES'] == 0:\n",
    "        return 'one_off'\n",
    "    elif credit_card['ONEOFF_PURCHASES'] == 0 and credit_card['INSTALLMENTS_PURCHASES'] > 0:\n",
    "        return 'installment_purchase'\n",
    "    else:\n",
    "        return 'none'"
   ]
  },
  {
   "cell_type": "code",
   "execution_count": null,
   "metadata": {},
   "outputs": [],
   "source": [
    "credit_card['purchase_type'] = credit_card.apply(purchase, axis = 1)"
   ]
  },
  {
   "cell_type": "code",
   "execution_count": null,
   "metadata": {},
   "outputs": [],
   "source": [
    "credit_card['monthly_cash_advance'] = credit_card['CASH_ADVANCE']/credit_card['TENURE']"
   ]
  },
  {
   "cell_type": "code",
   "execution_count": null,
   "metadata": {},
   "outputs": [],
   "source": [
    "corr1 = credit_card.corr()\n",
    "plt.figure(figsize=(14,10))\n",
    "corr1\n",
    "sns.heatmap(corr1, vmin=-1, annot=True, )"
   ]
  },
  {
   "cell_type": "code",
   "execution_count": null,
   "metadata": {},
   "outputs": [],
   "source": [
    "credit_card.info()"
   ]
  },
  {
   "cell_type": "code",
   "execution_count": null,
   "metadata": {},
   "outputs": [],
   "source": [
    "credit_card_kpi = credit_card.copy()"
   ]
  },
  {
   "cell_type": "markdown",
   "metadata": {},
   "source": [
    "# Creating a model"
   ]
  },
  {
   "cell_type": "code",
   "execution_count": null,
   "metadata": {},
   "outputs": [],
   "source": [
    "credit_card.drop(['limit_usage','monthly_amount_spent','min_pay_ratio','purchase_type','monthly_cash_advance'], axis = 1, inplace = True)"
   ]
  },
  {
   "cell_type": "code",
   "execution_count": null,
   "metadata": {},
   "outputs": [],
   "source": [
    "# Let us make a copy of original dataset\n",
    "df = credit_card.copy()"
   ]
  },
  {
   "cell_type": "code",
   "execution_count": null,
   "metadata": {},
   "outputs": [],
   "source": [
    "#from sklearn.metrics import mean_squared_error\n",
    "import sklearn.cluster as cluster\n",
    "from sklearn.cluster import KMeans\n",
    "from sklearn.preprocessing import StandardScaler\n",
    "import pca as PCA\n",
    "from factor_analyzer import FactorAnalyzer\n",
    "#from factor_analyzer import calculate_bartlett_sphericity\n",
    "#from factor_analyzer import calculate_kmo"
   ]
  },
  {
   "cell_type": "code",
   "execution_count": null,
   "metadata": {},
   "outputs": [],
   "source": [
    "scaler = StandardScaler()\n",
    "df_std = pd.DataFrame(scaler.fit_transform(df))"
   ]
  },
  {
   "cell_type": "code",
   "execution_count": null,
   "metadata": {},
   "outputs": [],
   "source": [
    "for i in range(0,17):\n",
    "    df_std.rename(columns = {i : df.columns[i]},inplace = True)"
   ]
  },
  {
   "cell_type": "code",
   "execution_count": null,
   "metadata": {},
   "outputs": [],
   "source": [
    "df_std.head()"
   ]
  },
  {
   "cell_type": "code",
   "execution_count": null,
   "metadata": {},
   "outputs": [],
   "source": [
    "# Get eigenvalues to select number of factors for Factor Analysis\n",
    "fa = FactorAnalyzer(n_factors=4, rotation=None).fit(df_std)\n",
    "eigenvalues, vectors = fa.get_eigenvalues()\n",
    "eigenvalues\n",
    "# As we can see most 5 factors have eigenvalue more than 1, so the factors we can choose are from factors 3-5"
   ]
  },
  {
   "cell_type": "code",
   "execution_count": null,
   "metadata": {},
   "outputs": [],
   "source": [
    "# Perform Factor Analysis\n",
    "fa = FactorAnalyzer(n_factors=3, rotation='varimax', method='ml')\n",
    "credit_factored = fa.fit(df_std)\n",
    "credit_factored"
   ]
  },
  {
   "cell_type": "code",
   "execution_count": null,
   "metadata": {},
   "outputs": [],
   "source": [
    "# get the loadings\n",
    "credit_factored.loadings_ "
   ]
  },
  {
   "cell_type": "code",
   "execution_count": null,
   "metadata": {},
   "outputs": [],
   "source": [
    "pd.DataFrame(credit_factored.loadings_, columns=['Factor1', 'Factor2', 'Factor3'], index=df_std.columns)"
   ]
  },
  {
   "cell_type": "code",
   "execution_count": null,
   "metadata": {},
   "outputs": [],
   "source": [
    "fa.get_communalities()"
   ]
  },
  {
   "cell_type": "code",
   "execution_count": null,
   "metadata": {},
   "outputs": [],
   "source": [
    "# Let us drop the variables which do not do well in any of the explaining factors\n",
    "df_std.drop(['TENURE','PRC_FULL_PAYMENT','MINIMUM_PAYMENTS','BALANCE_FREQUENCY'], axis = 1, inplace = True)"
   ]
  },
  {
   "cell_type": "code",
   "execution_count": null,
   "metadata": {},
   "outputs": [],
   "source": [
    "credit_new = df_std\n",
    "credit_new"
   ]
  },
  {
   "cell_type": "markdown",
   "metadata": {},
   "source": [
    " # KMeans"
   ]
  },
  {
   "cell_type": "code",
   "execution_count": null,
   "metadata": {},
   "outputs": [],
   "source": [
    "# Checking the optimal number of clusters\n",
    "Distortions = []\n",
    "K = range(1,14)\n",
    "for k in K:\n",
    "    kmeanModel = KMeans(n_clusters = k).fit(credit_new)\n",
    "    Distortions.append(kmeanModel.inertia_)\n",
    "plt.plot(K, Distortions, 'x-')\n",
    "plt.xlabel('k')\n",
    "plt.ylabel('Distortions')\n",
    "plt.show"
   ]
  },
  {
   "cell_type": "code",
   "execution_count": null,
   "metadata": {},
   "outputs": [],
   "source": [
    "# From the graph from Elbow Method it is clear that the optimal cluster would be from 4 to 6"
   ]
  },
  {
   "cell_type": "code",
   "execution_count": null,
   "metadata": {},
   "outputs": [],
   "source": [
    "kmeans = KMeans(init = 'random', n_clusters = 5, random_state = 1)\n",
    "kmeans.fit(credit_new)\n",
    "kmeans.cluster_centers_.shape\n",
    "y_pred = kmeans.fit_predict(credit_new)\n",
    "y_pred"
   ]
  },
  {
   "cell_type": "code",
   "execution_count": null,
   "metadata": {},
   "outputs": [],
   "source": [
    "kmeans.cluster_centers_.shape"
   ]
  },
  {
   "cell_type": "code",
   "execution_count": null,
   "metadata": {},
   "outputs": [],
   "source": [
    "credit_card_kpi['Cluster'] = y_pred"
   ]
  },
  {
   "cell_type": "code",
   "execution_count": null,
   "metadata": {},
   "outputs": [],
   "source": [
    "credit_card_kpi"
   ]
  },
  {
   "cell_type": "code",
   "execution_count": null,
   "metadata": {},
   "outputs": [],
   "source": [
    "df1 = pd.DataFrame(credit_card_kpi[credit_card_kpi['Cluster'] == 0])\n",
    "df2 = pd.DataFrame(credit_card_kpi[credit_card_kpi['Cluster'] == 1])\n",
    "df3 = pd.DataFrame(credit_card_kpi[credit_card_kpi['Cluster'] == 2])\n",
    "df4 = pd.DataFrame(credit_card_kpi[credit_card_kpi['Cluster'] == 3])\n",
    "df5 = pd.DataFrame(credit_card_kpi[credit_card_kpi['Cluster'] == 4])"
   ]
  },
  {
   "cell_type": "code",
   "execution_count": null,
   "metadata": {},
   "outputs": [],
   "source": [
    "df1.sample(20)"
   ]
  },
  {
   "cell_type": "code",
   "execution_count": null,
   "metadata": {},
   "outputs": [],
   "source": [
    "df2.sample(20)"
   ]
  },
  {
   "cell_type": "code",
   "execution_count": null,
   "metadata": {},
   "outputs": [],
   "source": [
    "df3.sample(20)"
   ]
  },
  {
   "cell_type": "code",
   "execution_count": null,
   "metadata": {},
   "outputs": [],
   "source": [
    "df4.sample(20)"
   ]
  },
  {
   "cell_type": "code",
   "execution_count": null,
   "metadata": {},
   "outputs": [],
   "source": [
    "df5.sample(20)"
   ]
  },
  {
   "cell_type": "code",
   "execution_count": null,
   "metadata": {},
   "outputs": [],
   "source": [
    "credit_card_kpi.drop('purchase_type', axis =1, inplace=True)"
   ]
  },
  {
   "cell_type": "code",
   "execution_count": null,
   "metadata": {},
   "outputs": [],
   "source": [
    "credit_card_kpi"
   ]
  },
  {
   "cell_type": "code",
   "execution_count": null,
   "metadata": {
    "scrolled": false
   },
   "outputs": [],
   "source": [
    "for i in range(0,22):\n",
    "    plt.figure(figsize= (10,8))\n",
    "    plt.subplot(22,1, i+1)\n",
    "    sns.jointplot(data=credit_card_kpi, x=credit_card_kpi.columns[i], y='Cluster')"
   ]
  },
  {
   "cell_type": "code",
   "execution_count": null,
   "metadata": {},
   "outputs": [],
   "source": [
    "sns.scatterplot(data=credit_card_kpi, x='BALANCE',y='PURCHASES', hue='Cluster', palette='deep')"
   ]
  },
  {
   "cell_type": "code",
   "execution_count": null,
   "metadata": {},
   "outputs": [],
   "source": [
    "sns.scatterplot(data=credit_card_kpi, x='BALANCE',y='CREDIT_LIMIT', hue='Cluster', palette='deep')"
   ]
  },
  {
   "cell_type": "code",
   "execution_count": null,
   "metadata": {},
   "outputs": [],
   "source": [
    "sns.scatterplot(data=credit_card_kpi, x='ONEOFF_PURCHASES',y='INSTALLMENTS_PURCHASES', hue='Cluster', palette='deep')"
   ]
  },
  {
   "cell_type": "code",
   "execution_count": null,
   "metadata": {},
   "outputs": [],
   "source": [
    "sns.scatterplot(data=credit_card_kpi, x='CREDIT_LIMIT',y='PURCHASES', hue='Cluster', palette='deep')"
   ]
  },
  {
   "cell_type": "code",
   "execution_count": null,
   "metadata": {
    "scrolled": false
   },
   "outputs": [],
   "source": [
    "sns.scatterplot(data=credit_card_kpi, x='CASH_ADVANCE',y='CREDIT_LIMIT', hue='Cluster', palette='deep')"
   ]
  },
  {
   "cell_type": "code",
   "execution_count": null,
   "metadata": {},
   "outputs": [],
   "source": [
    "sns.scatterplot(data=credit_card_kpi, x='CREDIT_LIMIT',y='PAYMENTS', hue='Cluster', palette='deep')"
   ]
  },
  {
   "cell_type": "code",
   "execution_count": null,
   "metadata": {},
   "outputs": [],
   "source": [
    "sns.scatterplot(data=credit_card_kpi, x='PURCHASES',y='CASH_ADVANCE', hue='Cluster',palette='deep')"
   ]
  },
  {
   "cell_type": "code",
   "execution_count": null,
   "metadata": {},
   "outputs": [],
   "source": [
    "# Let us make a new dataset which contains only those variables which seems to define the activities of the customers that \n",
    "# can help in making marketing strategy for them\n",
    "credit_final = credit_card_kpi[['BALANCE','PURCHASES','CASH_ADVANCE','CREDIT_LIMIT','PAYMENTS','MINIMUM_PAYMENTS','PRC_FULL_PAYMENT','Cluster']]\n",
    "credit_final.head()"
   ]
  },
  {
   "cell_type": "code",
   "execution_count": null,
   "metadata": {
    "scrolled": false
   },
   "outputs": [],
   "source": [
    "plt.figure(figsize=(14,10))\n",
    "sns.pairplot(data=credit_final, hue='Cluster', palette='deep', diag_kws={'bw' : 0.5}, diag_kind='kde')"
   ]
  }
 ],
 "metadata": {
  "kernelspec": {
   "display_name": "Python 3",
   "language": "python",
   "name": "python3"
  },
  "language_info": {
   "codemirror_mode": {
    "name": "ipython",
    "version": 3
   },
   "file_extension": ".py",
   "mimetype": "text/x-python",
   "name": "python",
   "nbconvert_exporter": "python",
   "pygments_lexer": "ipython3",
   "version": "3.7.6"
  }
 },
 "nbformat": 4,
 "nbformat_minor": 4
}
